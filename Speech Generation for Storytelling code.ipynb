{
 "cells": [
  {
   "cell_type": "code",
   "execution_count": null,
   "id": "6b52a755-b7cb-473f-9ff9-a03187d7fe93",
   "metadata": {},
   "outputs": [
    {
     "name": "stdin",
     "output_type": "stream",
     "text": [
      "Choose voice (male/female):  male\n",
      "\n",
      "Enter your story (or type 'exit' to quit):\n",
      " i am sahil sharma\n"
     ]
    }
   ],
   "source": [
    "import pyttsx3\n",
    "\n",
    "def tell_story(story_text, voice_gender):\n",
    "    # Initialize the TTS engine\n",
    "    engine = pyttsx3.init()\n",
    "\n",
    "    # Set properties (optional)\n",
    "    engine.setProperty('rate', 150)    # Speed of speech\n",
    "    engine.setProperty('volume', 1)    # Volume level (0.0 to 1.0)\n",
    "    \n",
    "    # Change voice based on user selection\n",
    "    voices = engine.getProperty('voices')\n",
    "    \n",
    "    if voice_gender.lower() == 'male':\n",
    "        engine.setProperty('voice', voices[0].id)  # Male voice\n",
    "    elif voice_gender.lower() == 'female':\n",
    "        engine.setProperty('voice', voices[1].id)  # Female voice\n",
    "    else:\n",
    "        print(\"Invalid voice selection. Defaulting to female voice.\")\n",
    "        engine.setProperty('voice', voices[1].id)  # Default to female voice\n",
    "    \n",
    "    # Read the story\n",
    "    engine.say(story_text)\n",
    "    \n",
    "    # Run the engine\n",
    "    engine.runAndWait()\n",
    "\n",
    "# Main program\n",
    "def main():\n",
    "    # Get user input for voice preference\n",
    "    voice_gender = input(\"Choose voice (male/female): \").strip().lower()\n",
    "    \n",
    "    while True:\n",
    "        # Get user input for the story\n",
    "        story = input(\"\\nEnter your story (or type 'exit' to quit):\\n\")\n",
    "        \n",
    "        # Exit condition\n",
    "        if story.lower() == 'exit':\n",
    "            print(\"Goodbye!\")\n",
    "            break\n",
    "        \n",
    "        # Generate speech for the user's story with the selected voice\n",
    "        tell_story(story, voice_gender)\n",
    "\n",
    "if __name__ == \"__main__\":\n",
    "    main()\n"
   ]
  },
  {
   "cell_type": "code",
   "execution_count": null,
   "id": "9c51be2d-14e1-42f2-9948-a16d81534eb7",
   "metadata": {},
   "outputs": [],
   "source": []
  }
 ],
 "metadata": {
  "kernelspec": {
   "display_name": "Python 3 (ipykernel)",
   "language": "python",
   "name": "python3"
  },
  "language_info": {
   "codemirror_mode": {
    "name": "ipython",
    "version": 3
   },
   "file_extension": ".py",
   "mimetype": "text/x-python",
   "name": "python",
   "nbconvert_exporter": "python",
   "pygments_lexer": "ipython3",
   "version": "3.11.7"
  }
 },
 "nbformat": 4,
 "nbformat_minor": 5
}
